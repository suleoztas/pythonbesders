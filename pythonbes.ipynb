{
  "nbformat": 4,
  "nbformat_minor": 0,
  "metadata": {
    "colab": {
      "provenance": []
    },
    "kernelspec": {
      "name": "python3",
      "display_name": "Python 3"
    },
    "language_info": {
      "name": "python"
    }
  },
  "cells": [
    {
      "cell_type": "code",
      "execution_count": 3,
      "metadata": {
        "colab": {
          "base_uri": "https://localhost:8080/"
        },
        "id": "koiJpJ3RbyNf",
        "outputId": "123aae5b-aad3-483a-b832-c3ee90aaac86"
      },
      "outputs": [
        {
          "output_type": "stream",
          "name": "stdout",
          "text": [
            "1 ile 100 arasındaki 7 ye bölünen sayılar: [7, 14, 21, 28, 35, 42, 49, 56, 63, 70, 77, 84, 91, 98]\n",
            "Toplam sayı adeti 14\n"
          ]
        }
      ],
      "source": [
        "#1 ile 100 arasındaki sayılardan 7'ye bölenleri bulan Python kodu\n",
        "sayi_dizisi=[]\n",
        "sayi=1\n",
        "while sayi<=100:\n",
        "    if sayi % 7==0:\n",
        "      sayi_dizisi.append(sayi)\n",
        "    sayi += 1\n",
        "print(\"1 ile 100 arasındaki 7 ye bölünen sayılar:\",sayi_dizisi)\n",
        "print(\"Toplam sayı adeti\",len(sayi_dizisi))"
      ]
    },
    {
      "cell_type": "code",
      "source": [
        "while True:\n",
        "  try:\n",
        "    gelen1=float(input(\"Birinci sayiyi girin:\"))\n",
        "    gelen2=float(input(\"İkinci sayıyı girin:\"))\n",
        "\n",
        "    if gelen1>gelen2:\n",
        "      print(\"İlk sayı büyüktür\")\n",
        "    elif gelen1<gelen2:\n",
        "      print(\"İkinci sayi büyüktür\")\n",
        "    else:\n",
        "      print(\"Sayılar birbirine eşittir\")\n",
        "    break\n",
        "  except ValueError:\n",
        "    print(\"Lütfen geçerli bir sayi girin\")"
      ],
      "metadata": {
        "colab": {
          "base_uri": "https://localhost:8080/"
        },
        "id": "LAj9SEqZb09M",
        "outputId": "7a081bf8-150c-4956-d38c-874520f6e22e"
      },
      "execution_count": 4,
      "outputs": [
        {
          "output_type": "stream",
          "name": "stdout",
          "text": [
            "Birinci sayiyi girin:54\n",
            "İkinci sayıyı girin:65\n",
            "İkinci sayi büyüktür\n"
          ]
        }
      ]
    },
    {
      "cell_type": "code",
      "source": [
        "# Girilen iki kodun hangisinin büyük olduğunu bulan ve sayı dışında girilen karakterin hatalı olduğu bildiren kod blogudur\n",
        "while True:\n",
        "    try:\n",
        "        sayi = int(input(\"Bir sayı girin: \"))\n",
        "        if sayi < 0:\n",
        "            print(\"Negatif sayıların faktöriyeli hesaplanamaz.\")\n",
        "        elif sayi == 0 or sayi == 1:\n",
        "            print(1)\n",
        "        else:\n",
        "            sonuc = 1\n",
        "            while sayi > 1:\n",
        "                sonuc *= sayi\n",
        "                sayi -= 1\n",
        "            print(sonuc)\n",
        "        break\n",
        "    except ValueError:\n",
        "        print(\"Lütfen geçerli bir tam sayı girin.\")\n"
      ],
      "metadata": {
        "colab": {
          "base_uri": "https://localhost:8080/"
        },
        "id": "RYDPF0GYb0_8",
        "outputId": "9a48c2c4-3dce-4d1f-d08e-15e38cd527e4"
      },
      "execution_count": 5,
      "outputs": [
        {
          "output_type": "stream",
          "name": "stdout",
          "text": [
            "Bir sayı girin: 5\n",
            "120\n"
          ]
        }
      ]
    },
    {
      "cell_type": "code",
      "source": [
        "#Kullanıcıdan başlangıç değeri al\n",
        "while True:\n",
        "    try:\n",
        "        baslangic_degeri= int(input(\"Başlangıç değeri girin:\"))\n",
        "        if baslangic_degeri < 0:\n",
        "          baslangic_degeri= abs(baslangic_degeri)\n",
        "          print(f\"Negatif değer girdiniz,pozitif olarak alındı:{baslangic_degeri}\")\n",
        "        break\n",
        "    except ValueError:\n",
        "          print(\"Lütfen geçerli bir tam sayı girin.\")\n",
        "#Kullanıcıdan son değer al\n",
        "while True:\n",
        "    try:\n",
        "        btis_degeri=int(input(\"Bitiş değerini girin:\"))\n",
        "        if bitis_degeri < 0:\n",
        "           bitis_degeri = abs(bitis_degeri)\n",
        "           print(f\"Negatif deger girdiniz,pozitif olarak alındı:{bitis_degeri}\")\n",
        "        break\n",
        "    except ValueError:\n",
        "      print(\"Lütfen geçerli bir tam sayı girin.\")\n",
        "#Başlangıç ve bitiş değerleri arasında çift sayıları bul ve topla\n",
        "cift_sayilar=[]\n",
        "cift_sayilarin_toplami=0\n",
        "sayi=baslangic_degeri\n",
        "\n",
        "  while sayi <=bitis_degeri\n",
        "\n",
        "    if sayi %2 ==0:\n",
        "      cift_sayilar.append(sayi)\n",
        "      cift_sayilarin_toplami += sayi\n",
        "    sayi += 1\n",
        "\n",
        "# Elde edilen çift sayıları ve toplamlarını ekrana yazdır\n",
        "print(f\"{baslangic_degeri} ile {bitis_degeri} arasındaki çift sayılar:\")\n",
        "for num in cift_sayilar:\n",
        "    print(num, end=\" \")\n",
        "\n",
        "print(f\"\\nÇift sayıların toplamı: {cift_sayilarin_toplami}\")\n",
        "\n",
        "\n",
        "\n",
        "\n"
      ],
      "metadata": {
        "colab": {
          "base_uri": "https://localhost:8080/",
          "height": 106
        },
        "id": "tcgrBv6mb1Es",
        "outputId": "5ff9fbe4-59db-4e0d-834e-77764cc3016c"
      },
      "execution_count": 10,
      "outputs": [
        {
          "output_type": "error",
          "ename": "IndentationError",
          "evalue": "unexpected indent (<ipython-input-10-1030b599e4ef>, line 26)",
          "traceback": [
            "\u001b[0;36m  File \u001b[0;32m\"<ipython-input-10-1030b599e4ef>\"\u001b[0;36m, line \u001b[0;32m26\u001b[0m\n\u001b[0;31m    while sayi <=bitis_degeri\u001b[0m\n\u001b[0m    ^\u001b[0m\n\u001b[0;31mIndentationError\u001b[0m\u001b[0;31m:\u001b[0m unexpected indent\n"
          ]
        }
      ]
    },
    {
      "cell_type": "code",
      "source": [
        "# Kullanıcıdan başlangıç değeri al\n",
        "while True:\n",
        "    try:\n",
        "        baslangic_degeri = int(input(\"Başlangıç değerini girin: \"))\n",
        "        if baslangic_degeri < 0:\n",
        "            baslangic_degeri = abs(baslangic_degeri)\n",
        "            print(f\"Negatif değer girdiniz, pozitif olarak alındı: {baslangic_degeri}\")\n",
        "        break\n",
        "    except ValueError:\n",
        "        print(\"Lütfen geçerli bir tam sayı girin.\")\n",
        "\n",
        "# Kullanıcıdan son değer al\n",
        "while True:\n",
        "    try:\n",
        "        bitis_degeri = int(input(\"Bitiş değerini girin: \"))\n",
        "        if bitis_degeri < 0:\n",
        "            bitis_degeri = abs(bitis_degeri)\n",
        "            print(f\"Negatif değer girdiniz, pozitif olarak alındı: {bitis_degeri}\")\n",
        "        break\n",
        "    except ValueError:\n",
        "        print(\"Lütfen geçerli bir tam sayı girin.\")\n",
        "\n",
        "# Başlangıç ve bitiş değerleri arasında çift sayıları bul ve topla\n",
        "cift_sayilar = []\n",
        "cift_sayilarin_toplami = 0\n",
        "sayi = baslangic_degeri\n",
        "\n",
        "while sayi <= bitis_degeri:\n",
        "    if sayi % 2 == 0:\n",
        "        cift_sayilar.append(sayi)\n",
        "        cift_sayilarin_toplami += sayi\n",
        "    sayi += 1\n",
        "\n",
        "# Elde edilen çift sayıları ve toplamlarını ekrana yazdır\n",
        "print(f\"{baslangic_degeri} ile {bitis_degeri} arasındaki çift sayılar:\")\n",
        "for num in cift_sayilar:\n",
        "    print(num, end=\" \")\n",
        "\n",
        "print(f\"\\nÇift sayıların toplamı: {cift_sayilarin_toplami}\")"
      ],
      "metadata": {
        "colab": {
          "base_uri": "https://localhost:8080/"
        },
        "id": "hOBqiwUHqtc6",
        "outputId": "a428572d-e078-4524-83d6-34b869825949"
      },
      "execution_count": 6,
      "outputs": [
        {
          "output_type": "stream",
          "name": "stdout",
          "text": [
            "Başlangıç değerini girin: 8\n",
            "Bitiş değerini girin: 3\n",
            "8 ile 3 arasındaki çift sayılar:\n",
            "\n",
            "Çift sayıların toplamı: 0\n"
          ]
        }
      ]
    },
    {
      "cell_type": "code",
      "source": [
        "# Önceden tanımlalan sesli harf listesinde girilen metnin karşılaştırılması yapılarak sesli ve sessiz harf kontrolünün yapım\n",
        "sesli_harfler = 'aeıioöuüAEIİOÖUÜ'\n",
        "\n",
        "kelime = input(\"Bir kelime girin: \") # Kullanıcıdan bir kelime al\n",
        "\n",
        "# Sesli ve sessiz harf sayısını hesapla\n",
        "sesli_harf_sayisi = 0\n",
        "sessiz_harf_sayisi = 0\n",
        "\n",
        "'''\n",
        "isalpha() ile bir stringde yalnızca harf olup olmadığını kontrol etmek için kullanılır.\n",
        "\n",
        "Aşağıdaki kod blogunda geçen \"isalpha\" harf dışı bir karakter ile karşılaşınca \"false\" döndürmektedir.\n",
        "'''\n",
        "\n",
        "for harf in kelime:\n",
        "    if harf.isalpha():  # Sadece harfleri kontrol et\n",
        "        if harf in sesli_harfler:\n",
        "            sesli_harf_sayisi += 1\n",
        "        else:\n",
        "            sessiz_harf_sayisi += 1\n",
        "\n",
        "# Sonuçları ekrana yazdır\n",
        "print(kelime, \"kelimesinde\" , sesli_harf_sayisi , \"adet sesli harf ve\", sessiz_harf_sayisi, \"sessiz harf vardır.\")"
      ],
      "metadata": {
        "id": "5mzvHOuPqtU7"
      },
      "execution_count": null,
      "outputs": []
    }
  ]
}